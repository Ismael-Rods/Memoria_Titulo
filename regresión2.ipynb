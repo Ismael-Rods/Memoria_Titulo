version https://git-lfs.github.com/spec/v1
oid sha256:8c01d72f236e6d2bf7564f3de903ed4b0dbd1fdb8d2f40f0db3a94aa73d7bc7a
size 186220
