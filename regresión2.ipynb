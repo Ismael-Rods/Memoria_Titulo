version https://git-lfs.github.com/spec/v1
oid sha256:166a0f4e3bc5821165f9f9654a9201683ee5e1d7434e2d0cedb1ba18edf5bb19
size 186213
