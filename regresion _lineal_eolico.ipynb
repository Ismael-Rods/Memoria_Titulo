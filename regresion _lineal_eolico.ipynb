version https://git-lfs.github.com/spec/v1
oid sha256:c5fc33ed039af0a861997e79ee57df1b0ed1489d458233f00d1a9acf6ae46896
size 83458841
