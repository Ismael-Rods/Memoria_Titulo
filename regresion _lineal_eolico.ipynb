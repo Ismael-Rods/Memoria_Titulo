version https://git-lfs.github.com/spec/v1
oid sha256:ab9594f77fdf08192124347231d12aa66781a5231e4ad3286f60c296508006a3
size 78926391
